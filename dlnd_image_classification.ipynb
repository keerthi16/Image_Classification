{
 "cells": [
  {
   "cell_type": "markdown",
   "metadata": {
    "collapsed": true
   },
   "source": [
    "# Image Classification\n",
    "In this project, you'll classify images from the [CIFAR-10 dataset](https://www.cs.toronto.edu/~kriz/cifar.html).  The dataset consists of airplanes, dogs, cats, and other objects. You'll preprocess the images, then train a convolutional neural network on all the samples. The images need to be normalized and the labels need to be one-hot encoded.  You'll get to apply what you learned and build a convolutional, max pooling, dropout, and fully connected layers.  At the end, you'll get to see your neural network's predictions on the sample images.\n",
    "## Get the Data\n",
    "Run the following cell to download the [CIFAR-10 dataset for python](https://www.cs.toronto.edu/~kriz/cifar-10-python.tar.gz)."
   ]
  },
  {
   "cell_type": "code",
   "execution_count": 1,
   "metadata": {
    "collapsed": false
   },
   "outputs": [
    {
     "name": "stdout",
     "output_type": "stream",
     "text": [
      "All files found!\n"
     ]
    }
   ],
   "source": [
    "\"\"\"\n",
    "DON'T MODIFY ANYTHING IN THIS CELL THAT IS BELOW THIS LINE\n",
    "\"\"\"\n",
    "from urllib.request import urlretrieve\n",
    "from os.path import isfile, isdir\n",
    "from tqdm import tqdm\n",
    "import problem_unittests as tests\n",
    "import tarfile\n",
    "\n",
    "cifar10_dataset_folder_path = 'cifar-10-batches-py'\n",
    "\n",
    "class DLProgress(tqdm):\n",
    "    last_block = 0\n",
    "\n",
    "    def hook(self, block_num=1, block_size=1, total_size=None):\n",
    "        self.total = total_size\n",
    "        self.update((block_num - self.last_block) * block_size)\n",
    "        self.last_block = block_num\n",
    "\n",
    "if not isfile('cifar-10-python.tar.gz'):\n",
    "    with DLProgress(unit='B', unit_scale=True, miniters=1, desc='CIFAR-10 Dataset') as pbar:\n",
    "        urlretrieve(\n",
    "            'https://www.cs.toronto.edu/~kriz/cifar-10-python.tar.gz',\n",
    "            'cifar-10-python.tar.gz',\n",
    "            pbar.hook)\n",
    "\n",
    "if not isdir(cifar10_dataset_folder_path):\n",
    "    with tarfile.open('cifar-10-python.tar.gz') as tar:\n",
    "        tar.extractall()\n",
    "        tar.close()\n",
    "\n",
    "\n",
    "tests.test_folder_path(cifar10_dataset_folder_path)"
   ]
  },
  {
   "cell_type": "markdown",
   "metadata": {},
   "source": [
    "## Explore the Data\n",
    "The dataset is broken into batches to prevent your machine from running out of memory.  The CIFAR-10 dataset consists of 5 batches, named `data_batch_1`, `data_batch_2`, etc.. Each batch contains the labels and images that are one of the following:\n",
    "* airplane\n",
    "* automobile\n",
    "* bird\n",
    "* cat\n",
    "* deer\n",
    "* dog\n",
    "* frog\n",
    "* horse\n",
    "* ship\n",
    "* truck\n",
    "\n",
    "Understanding a dataset is part of making predictions on the data.  Play around with the code cell below by changing the `batch_id` and `sample_id`. The `batch_id` is the id for a batch (1-5). The `sample_id` is the id for a image and label pair in the batch.\n",
    "\n",
    "Ask yourself \"What are all possible labels?\", \"What is the range of values for the image data?\", \"Are the labels in order or random?\".  Answers to questions like these will help you preprocess the data and end up with better predictions."
   ]
  },
  {
   "cell_type": "code",
   "execution_count": 2,
   "metadata": {
    "collapsed": false
   },
   "outputs": [
    {
     "name": "stdout",
     "output_type": "stream",
     "text": [
      "\n",
      "Stats of batch 2:\n",
      "Samples: 10000\n",
      "Label Counts: {0: 984, 1: 1007, 2: 1010, 3: 995, 4: 1010, 5: 988, 6: 1008, 7: 1026, 8: 987, 9: 985}\n",
      "First 20 Labels: [1, 6, 6, 8, 8, 3, 4, 6, 0, 6, 0, 3, 6, 6, 5, 4, 8, 3, 2, 6]\n",
      "\n",
      "Example of Image 4:\n",
      "Image - Min Value: 0 Max Value: 255\n",
      "Image - Shape: (32, 32, 3)\n",
      "Label - Label Id: 8 Name: ship\n"
     ]
    },
    {
     "data": {
      "image/png": "[encoded data removed]",
      "text/plain": [
       "<matplotlib.figure.Figure at 0x1158207f0>"
      ]
     },
     "metadata": {
      "image/png": {
       "height": 250,
       "width": 253
      }
     },
     "output_type": "display_data"
    }
   ],
   "source": [
    "%matplotlib inline\n",
    "%config InlineBackend.figure_format = 'retina'\n",
    "\n",
    "import helper\n",
    "import numpy as np\n",
    "\n",
    "# Explore the dataset\n",
    "batch_id = 2\n",
    "sample_id = 4\n",
    "helper.display_stats(cifar10_dataset_folder_path, batch_id, sample_id)"
   ]
  },
  {
   "cell_type": "markdown",
   "metadata": {},
   "source": [
    "## Implement Preprocess Functions\n",
    "### Normalize\n",
    "In the cell below, implement the `normalize` function to take in image data, `x`, and return it as a normalized Numpy array. The values should be in the range of 0 to 1, inclusive.  The return object should be the same shape as `x`."
   ]
  },
  {
   "cell_type": "code",
   "execution_count": 3,
   "metadata": {
    "collapsed": false
   },
   "outputs": [
    {
     "name": "stdout",
     "output_type": "stream",
     "text": [
      "Tests Passed\n"
     ]
    }
   ],
   "source": [
    "def normalize(x):\n",
    "    \"\"\"\n",
    "    Normalize a list of sample image data in the range of 0 to 1\n",
    "    : x: List of image data.  The image shape is (32, 32, 3)\n",
    "    : return: Numpy array of normalize data\n",
    "    \"\"\"\n",
    "    # TODO: Implement Function\n",
    "    minimum = np.min(x)\n",
    "    maximum = np.max(x)\n",
    "    result = (x - minimum)/(maximum - minimum)\n",
    "    return result\n",
    "\n",
    "\n",
    "\"\"\"\n",
    "DON'T MODIFY ANYTHING IN THIS CELL THAT IS BELOW THIS LINE\n",
    "\"\"\"\n",
    "tests.test_normalize(normalize)"
   ]
  },
  {
   "cell_type": "markdown",
   "metadata": {},
   "source": [
    "### One-hot encode\n",
    "Just like the previous code cell, you'll be implementing a function for preprocessing.  This time, you'll implement the `one_hot_encode` function. The input, `x`, are a list of labels.  Implement the function to return the list of labels as One-Hot encoded Numpy array.  The possible values for labels are 0 to 9. The one-hot encoding function should return the same encoding for each value between each call to `one_hot_encode`.  Make sure to save the map of encodings outside the function.\n",
    "\n",
    "Hint: Don't reinvent the wheel."
   ]
  },
  {
   "cell_type": "code",
   "execution_count": 4,
   "metadata": {
    "collapsed": false
   },
   "outputs": [
    {
     "name": "stdout",
     "output_type": "stream",
     "text": [
      "Tests Passed\n"
     ]
    }
   ],
   "source": [
    "def one_hot_encode(x):\n",
    "    \"\"\"\n",
    "    One hot encode a list of sample labels. Return a one-hot encoded vector for each label.\n",
    "    : x: List of sample Labels\n",
    "    : return: Numpy array of one-hot encoded labels\n",
    "    \"\"\"\n",
    "    # TODO: Implement Function\n",
    "    return np.eye(10)[x]\n",
    "\n",
    "\n",
    "\"\"\"\n",
    "DON'T MODIFY ANYTHING IN THIS CELL THAT IS BELOW THIS LINE\n",
    "\"\"\"\n",
    "tests.test_one_hot_encode(one_hot_encode)"
   ]
  },
  {
   "cell_type": "markdown",
   "metadata": {},
   "source": [
    "### Randomize Data\n",
    "As you saw from exploring the data above, the order of the samples are randomized.  It doesn't hurt to randomize it again, but you don't need to for this dataset."
   ]
  },
  {
   "cell_type": "markdown",
   "metadata": {},
   "source": [
    "## Preprocess all the data and save it\n",
    "Running the code cell below will preprocess all the CIFAR-10 data and save it to file. The code below also uses 10% of the training data for validation."
   ]
  },
  {
   "cell_type": "code",
   "execution_count": 5,
   "metadata": {
    "collapsed": false
   },
   "outputs": [],
   "source": [
    "\"\"\"\n",
    "DON'T MODIFY ANYTHING IN THIS CELL\n",
    "\"\"\"\n",
    "# Preprocess Training, Validation, and Testing Data\n",
    "helper.preprocess_and_save_data(cifar10_dataset_folder_path, normalize, one_hot_encode)"
   ]
  },
  {
   "cell_type": "markdown",
   "metadata": {},
   "source": [
    "# Check Point\n",
    "This is your first checkpoint.  If you ever decide to come back to this notebook or have to restart the notebook, you can start from here.  The preprocessed data has been saved to disk."
   ]
  },
  {
   "cell_type": "code",
   "execution_count": 6,
   "metadata": {
    "collapsed": true
   },
   "outputs": [],
   "source": [
    "\"\"\"\n",
    "DON'T MODIFY ANYTHING IN THIS CELL\n",
    "\"\"\"\n",
    "import pickle\n",
    "import problem_unittests as tests\n",
    "import helper\n",
    "\n",
    "# Load the Preprocessed Validation data\n",
    "valid_features, valid_labels = pickle.load(open('preprocess_validation.p', mode='rb'))"
   ]
  },
  {
   "cell_type": "markdown",
   "metadata": {},
   "source": [
    "## Build the network\n",
    "For the neural network, you'll build each layer into a function.  Most of the code you've seen has been outside of functions. To test your code more thoroughly, we require that you put each layer in a function.  This allows us to give you better feedback and test for simple mistakes using our unittests before you submit your project.\n",
    "\n",
    ">**Note:** If you're finding it hard to dedicate enough time for this course each week, we've provided a small shortcut to this part of the project. In the next couple of problems, you'll have the option to use classes from the [TensorFlow Layers](https://www.tensorflow.org/api_docs/python/tf/layers) or [TensorFlow Layers (contrib)](https://www.tensorflow.org/api_guides/python/contrib.layers) packages to build each layer, except the layers you build in the \"Convolutional and Max Pooling Layer\" section.  TF Layers is similar to Keras's and TFLearn's abstraction to layers, so it's easy to pickup.\n",
    "\n",
    ">However, if you would like to get the most out of this course, try to solve all the problems _without_ using anything from the TF Layers packages. You **can** still use classes from other packages that happen to have the same name as ones you find in TF Layers! For example, instead of using the TF Layers version of the `conv2d` class, [tf.layers.conv2d](https://www.tensorflow.org/api_docs/python/tf/layers/conv2d), you would want to use the TF Neural Network version of `conv2d`, [tf.nn.conv2d](https://www.tensorflow.org/api_docs/python/tf/nn/conv2d). \n",
    "\n",
    "Let's begin!\n",
    "\n",
    "### Input\n",
    "The neural network needs to read the image data, one-hot encoded labels, and dropout keep probability. Implement the following functions\n",
    "* Implement `neural_net_image_input`\n",
    " * Return a [TF Placeholder](https://www.tensorflow.org/api_docs/python/tf/placeholder)\n",
    " * Set the shape using `image_shape` with batch size set to `None`.\n",
    " * Name the TensorFlow placeholder \"x\" using the TensorFlow `name` parameter in the [TF Placeholder](https://www.tensorflow.org/api_docs/python/tf/placeholder).\n",
    "* Implement `neural_net_label_input`\n",
    " * Return a [TF Placeholder](https://www.tensorflow.org/api_docs/python/tf/placeholder)\n",
    " * Set the shape using `n_classes` with batch size set to `None`.\n",
    " * Name the TensorFlow placeholder \"y\" using the TensorFlow `name` parameter in the [TF Placeholder](https://www.tensorflow.org/api_docs/python/tf/placeholder).\n",
    "* Implement `neural_net_keep_prob_input`\n",
    " * Return a [TF Placeholder](https://www.tensorflow.org/api_docs/python/tf/placeholder) for dropout keep probability.\n",
    " * Name the TensorFlow placeholder \"keep_prob\" using the TensorFlow `name` parameter in the [TF Placeholder](https://www.tensorflow.org/api_docs/python/tf/placeholder).\n",
    "\n",
    "These names will be used at the end of the project to load your saved model.\n",
    "\n",
    "Note: `None` for shapes in TensorFlow allow for a dynamic size."
   ]
  },
  {
   "cell_type": "code",
   "execution_count": 7,
   "metadata": {
    "collapsed": false
   },
   "outputs": [
    {
     "name": "stdout",
     "output_type": "stream",
     "text": [
      "Image Input Tests Passed.\n",
      "Label Input Tests Passed.\n",
      "Keep Prob Tests Passed.\n"
     ]
    }
   ],
   "source": [
    "import tensorflow as tf\n",
    "\n",
    "def neural_net_image_input(image_shape):\n",
    "    \"\"\"\n",
    "    Return a Tensor for a bach of image input\n",
    "    : image_shape: Shape of the images\n",
    "    : return: Tensor for image input.\n",
    "    \"\"\"\n",
    "    # TODO: Implement Function\n",
    "    return tf.placeholder(tf.float32, [None, *image_shape], name='x')\n",
    "\n",
    "\n",
    "def neural_net_label_input(n_classes):\n",
    "    \"\"\"\n",
    "    Return a Tensor for a batch of label input\n",
    "    : n_classes: Number of classes\n",
    "    : return: Tensor for label input.\n",
    "    \"\"\"\n",
    "    # TODO: Implement Function\n",
    "    return tf.placeholder(tf.float32, [None, n_classes], name='y')\n",
    "\n",
    "\n",
    "def neural_net_keep_prob_input():\n",
    "    \"\"\"\n",
    "    Return a Tensor for keep probability\n",
    "    : return: Tensor for keep probability.\n",
    "    \"\"\"\n",
    "    # TODO: Implement Function\n",
    "    return tf.placeholder(tf.float32, name='keep_prob')\n",
    "\n",
    "\n",
    "\"\"\"\n",
    "DON'T MODIFY ANYTHING IN THIS CELL THAT IS BELOW THIS LINE\n",
    "\"\"\"\n",
    "tf.reset_default_graph()\n",
    "tests.test_nn_image_inputs(neural_net_image_input)\n",
    "tests.test_nn_label_inputs(neural_net_label_input)\n",
    "tests.test_nn_keep_prob_inputs(neural_net_keep_prob_input)"
   ]
  },
  {
   "cell_type": "markdown",
   "metadata": {},
   "source": [
    "### Convolution and Max Pooling Layer\n",
    "Convolution layers have a lot of success with images. For this code cell, you should implement the function `conv2d_maxpool` to apply convolution then max pooling:\n",
    "* Create the weight and bias using `conv_ksize`, `conv_num_outputs` and the shape of `x_tensor`.\n",
    "* Apply a convolution to `x_tensor` using weight and `conv_strides`.\n",
    " * We recommend you use same padding, but you're welcome to use any padding.\n",
    "* Add bias\n",
    "* Add a nonlinear activation to the convolution.\n",
    "* Apply Max Pooling using `pool_ksize` and `pool_strides`.\n",
    " * We recommend you use same padding, but you're welcome to use any padding.\n",
    "\n",
    "**Note:** You **can't** use [TensorFlow Layers](https://www.tensorflow.org/api_docs/python/tf/layers) or [TensorFlow Layers (contrib)](https://www.tensorflow.org/api_guides/python/contrib.layers) for **this** layer, but you can still use TensorFlow's [Neural Network](https://www.tensorflow.org/api_docs/python/tf/nn) package. You may still use the shortcut option for all the **other** layers."
   ]
  },
  {
   "cell_type": "code",
   "execution_count": 8,
   "metadata": {
    "collapsed": false
   },
   "outputs": [
    {
     "name": "stdout",
     "output_type": "stream",
     "text": [
      "Tests Passed\n"
     ]
    }
   ],
   "source": [
    "def conv2d_maxpool(x_tensor, conv_num_outputs, conv_ksize, conv_strides, pool_ksize, pool_strides):\n",
    "    \"\"\"\n",
    "    Apply convolution then max pooling to x_tensor\n",
    "    :param x_tensor: TensorFlow Tensor\n",
    "    :param conv_num_outputs: Number of outputs for the convolutional layer\n",
    "    :param conv_ksize: kernal size 2-D Tuple for the convolutional layer\n",
    "    :param conv_strides: Stride 2-D Tuple for convolution\n",
    "    :param pool_ksize: kernal size 2-D Tuple for pool\n",
    "    :param pool_strides: Stride 2-D Tuple for pool\n",
    "    : return: A tensor that represents convolution and max pooling of x_tensor\n",
    "    \"\"\"\n",
    "    # TODO: Implement Function\n",
    "    i_d = int(x_tensor.shape[3])\n",
    "    o_d = conv_num_outputs\n",
    "    w_s = [*conv_ksize, i_d, o_d]\n",
    "    w = tf.Variable(tf.random_normal(w_s, stddev=0.1))\n",
    "    b = tf.Variable(tf.zeros(o_d))\n",
    "    conv_strides = [1, *conv_strides, 1]\n",
    "    x = tf.nn.conv2d(x_tensor, w, strides=conv_strides, padding='SAME')\n",
    "    x = tf.nn.bias_add(x, b)\n",
    "    x = tf.nn.relu(x)\n",
    "    pool_ksize = [1, *pool_ksize, 1]\n",
    "    pool_strides = [1, *pool_strides, 1]\n",
    "    x = tf.nn.max_pool(x, pool_ksize, pool_strides, padding='SAME')\n",
    "    return x\n",
    "\n",
    "\n",
    "\"\"\"\n",
    "DON'T MODIFY ANYTHING IN THIS CELL THAT IS BELOW THIS LINE\n",
    "\"\"\"\n",
    "tests.test_con_pool(conv2d_maxpool)"
   ]
  },
  {
   "cell_type": "markdown",
   "metadata": {},
   "source": [
    "### Flatten Layer\n",
    "Implement the `flatten` function to change the dimension of `x_tensor` from a 4-D tensor to a 2-D tensor.  The output should be the shape (*Batch Size*, *Flattened Image Size*). Shortcut option: you can use classes from the [TensorFlow Layers](https://www.tensorflow.org/api_docs/python/tf/layers) or [TensorFlow Layers (contrib)](https://www.tensorflow.org/api_guides/python/contrib.layers) packages for this layer. For more of a challenge, only use other TensorFlow packages."
   ]
  },
  {
   "cell_type": "code",
   "execution_count": 9,
   "metadata": {
    "collapsed": false
   },
   "outputs": [
    {
     "name": "stdout",
     "output_type": "stream",
     "text": [
      "Tests Passed\n"
     ]
    }
   ],
   "source": [
    "def flatten(x_tensor):\n",
    "    \"\"\"\n",
    "    Flatten x_tensor to (Batch Size, Flattened Image Size)\n",
    "    : x_tensor: A tensor of size (Batch Size, ...), where ... are the image dimensions.\n",
    "    : return: A tensor of size (Batch Size, Flattened Image Size).\n",
    "    \"\"\"\n",
    "    # TODO: Implement Function\n",
    "    batch_size, *img_size = x_tensor.get_shape().as_list()\n",
    "    img_size = img_size[0] * img_size[1] * img_size[2]\n",
    "    result = tf.reshape(x_tensor, [-1, img_size])\n",
    "    return result\n",
    "\n",
    "\n",
    "\"\"\"\n",
    "DON'T MODIFY ANYTHING IN THIS CELL THAT IS BELOW THIS LINE\n",
    "\"\"\"\n",
    "tests.test_flatten(flatten)"
   ]
  },
  {
   "cell_type": "markdown",
   "metadata": {},
   "source": [
    "### Fully-Connected Layer\n",
    "Implement the `fully_conn` function to apply a fully connected layer to `x_tensor` with the shape (*Batch Size*, *num_outputs*). Shortcut option: you can use classes from the [TensorFlow Layers](https://www.tensorflow.org/api_docs/python/tf/layers) or [TensorFlow Layers (contrib)](https://www.tensorflow.org/api_guides/python/contrib.layers) packages for this layer. For more of a challenge, only use other TensorFlow packages."
   ]
  },
  {
   "cell_type": "code",
   "execution_count": 10,
   "metadata": {
    "collapsed": false
   },
   "outputs": [
    {
     "name": "stdout",
     "output_type": "stream",
     "text": [
      "Tests Passed\n"
     ]
    }
   ],
   "source": [
    "def fully_conn(x_tensor, num_outputs):\n",
    "    \"\"\"\n",
    "    Apply a fully connected layer to x_tensor using weight and bias\n",
    "    : x_tensor: A 2-D tensor where the first dimension is batch size.\n",
    "    : num_outputs: The number of output that the new tensor should be.\n",
    "    : return: A 2-D tensor where the second dimension is num_outputs.\n",
    "    \"\"\"\n",
    "    # TODO: Implement Function\n",
    "    w_shape = (int(x_tensor.get_shape().as_list()[1]), num_outputs)\n",
    "    w = tf.Variable(tf.random_normal(w_shape, stddev=0.1))\n",
    "    b = tf.Variable(tf.zeros(num_outputs))\n",
    "    x = tf.add(tf.matmul(x_tensor, w), b)\n",
    "    x = tf.nn.relu(x)\n",
    "    return x\n",
    "\n",
    "\"\"\"\n",
    "DON'T MODIFY ANYTHING IN THIS CELL THAT IS BELOW THIS LINE\n",
    "\"\"\"\n",
    "tests.test_fully_conn(fully_conn)"
   ]
  },
  {
   "cell_type": "markdown",
   "metadata": {},
   "source": [
    "### Output Layer\n",
    "Implement the `output` function to apply a fully connected layer to `x_tensor` with the shape (*Batch Size*, *num_outputs*). Shortcut option: you can use classes from the [TensorFlow Layers](https://www.tensorflow.org/api_docs/python/tf/layers) or [TensorFlow Layers (contrib)](https://www.tensorflow.org/api_guides/python/contrib.layers) packages for this layer. For more of a challenge, only use other TensorFlow packages.\n",
    "\n",
    "**Note:** Activation, softmax, or cross entropy should **not** be applied to this."
   ]
  },
  {
   "cell_type": "code",
   "execution_count": 11,
   "metadata": {
    "collapsed": false
   },
   "outputs": [
    {
     "name": "stdout",
     "output_type": "stream",
     "text": [
      "Tests Passed\n"
     ]
    }
   ],
   "source": [
    "def output(x_tensor, num_outputs):\n",
    "    \"\"\"\n",
    "    Apply a output layer to x_tensor using weight and bias\n",
    "    : x_tensor: A 2-D tensor where the first dimension is batch size.\n",
    "    : num_outputs: The number of output that the new tensor should be.\n",
    "    : return: A 2-D tensor where the second dimension is num_outputs.\n",
    "    \"\"\"\n",
    "    # TODO: Implement Function\n",
    "    w_shape = [int(x_tensor.get_shape().as_list()[1]), num_outputs]\n",
    "    w = tf.Variable(tf.random_normal(w_shape, stddev=0.1))\n",
    "    b = tf.Variable(tf.zeros(num_outputs))\n",
    "    x = tf.add(tf.matmul(x_tensor, w), b)\n",
    "    return x\n",
    "\n",
    "\n",
    "\"\"\"\n",
    "DON'T MODIFY ANYTHING IN THIS CELL THAT IS BELOW THIS LINE\n",
    "\"\"\"\n",
    "tests.test_output(output)"
   ]
  },
  {
   "cell_type": "markdown",
   "metadata": {},
   "source": [
    "### Create Convolutional Model\n",
    "Implement the function `conv_net` to create a convolutional neural network model. The function takes in a batch of images, `x`, and outputs logits.  Use the layers you created above to create this model:\n",
    "\n",
    "* Apply 1, 2, or 3 Convolution and Max Pool layers\n",
    "* Apply a Flatten Layer\n",
    "* Apply 1, 2, or 3 Fully Connected Layers\n",
    "* Apply an Output Layer\n",
    "* Return the output\n",
    "* Apply [TensorFlow's Dropout](https://www.tensorflow.org/api_docs/python/tf/nn/dropout) to one or more layers in the model using `keep_prob`. "
   ]
  },
  {
   "cell_type": "code",
   "execution_count": 12,
   "metadata": {
    "collapsed": false
   },
   "outputs": [
    {
     "name": "stdout",
     "output_type": "stream",
     "text": [
      "Neural Network Built!\n"
     ]
    }
   ],
   "source": [
    "def conv_net(x, keep_prob):\n",
    "    \"\"\"\n",
    "    Create a convolutional neural network model\n",
    "    : x: Placeholder tensor that holds image data.\n",
    "    : keep_prob: Placeholder tensor that hold dropout keep probability.\n",
    "    : return: Tensor that represents logits\n",
    "    \"\"\"\n",
    "    # TODO: Apply 1, 2, or 3 Convolution and Max Pool layers\n",
    "    #    Play around with different number of outputs, kernel size and stride\n",
    "    # Function Definition from Above:\n",
    "    #    conv2d_maxpool(x_tensor, conv_num_outputs, conv_ksize, conv_strides, pool_ksize, pool_strides)\n",
    "    x = conv2d_maxpool(x, 32, (3, 3), (1, 1), (2, 2), (2, 2))\n",
    "    x = conv2d_maxpool(x, 32, (3, 3), (2, 2), (2, 2), (2, 2))\n",
    "    x = conv2d_maxpool(x, 64, (3, 3), (1, 1), (2, 2), (2, 2))\n",
    "\n",
    "    # TODO: Apply a Flatten Layer\n",
    "    # Function Definition from Above:\n",
    "    #   flatten(x_tensor)\n",
    "    x = flatten(x)\n",
    "\n",
    "    # TODO: Apply 1, 2, or 3 Fully Connected Layers\n",
    "    #    Play around with different number of outputs\n",
    "    # Function Definition from Above:\n",
    "    #   fully_conn(x_tensor, num_outputs)\n",
    "    x = fully_conn(x, 512)\n",
    "    x = tf.nn.dropout(x, keep_prob)\n",
    "    x = fully_conn(x, 128)\n",
    "    x = tf.nn.dropout(x, keep_prob)\n",
    "    \n",
    "    # TODO: Apply an Output Layer\n",
    "    #    Set this to the number of classes\n",
    "    # Function Definition from Above:\n",
    "    #   output(x_tensor, num_outputs)\n",
    "    o_p = output(x, 10)\n",
    "    \n",
    "    # TODO: return output\n",
    "    return o_p\n",
    "\n",
    "\n",
    "\"\"\"\n",
    "DON'T MODIFY ANYTHING IN THIS CELL THAT IS BELOW THIS LINE\n",
    "\"\"\"\n",
    "\n",
    "##############################\n",
    "## Build the Neural Network ##\n",
    "##############################\n",
    "\n",
    "# Remove previous weights, bias, inputs, etc..\n",
    "tf.reset_default_graph()\n",
    "\n",
    "# Inputs\n",
    "x = neural_net_image_input((32, 32, 3))\n",
    "y = neural_net_label_input(10)\n",
    "keep_prob = neural_net_keep_prob_input()\n",
    "\n",
    "# Model\n",
    "logits = conv_net(x, keep_prob)\n",
    "\n",
    "# Name logits Tensor, so that is can be loaded from disk after training\n",
    "logits = tf.identity(logits, name='logits')\n",
    "\n",
    "# Loss and Optimizer\n",
    "cost = tf.reduce_mean(tf.nn.softmax_cross_entropy_with_logits(logits=logits, labels=y))\n",
    "optimizer = tf.train.AdamOptimizer().minimize(cost)\n",
    "\n",
    "# Accuracy\n",
    "correct_pred = tf.equal(tf.argmax(logits, 1), tf.argmax(y, 1))\n",
    "accuracy = tf.reduce_mean(tf.cast(correct_pred, tf.float32), name='accuracy')\n",
    "\n",
    "tests.test_conv_net(conv_net)"
   ]
  },
  {
   "cell_type": "markdown",
   "metadata": {},
   "source": [
    "## Train the Neural Network\n",
    "### Single Optimization\n",
    "Implement the function `train_neural_network` to do a single optimization.  The optimization should use `optimizer` to optimize in `session` with a `feed_dict` of the following:\n",
    "* `x` for image input\n",
    "* `y` for labels\n",
    "* `keep_prob` for keep probability for dropout\n",
    "\n",
    "This function will be called for each batch, so `tf.global_variables_initializer()` has already been called.\n",
    "\n",
    "Note: Nothing needs to be returned. This function is only optimizing the neural network."
   ]
  },
  {
   "cell_type": "code",
   "execution_count": 13,
   "metadata": {
    "collapsed": false
   },
   "outputs": [
    {
     "name": "stdout",
     "output_type": "stream",
     "text": [
      "Tests Passed\n"
     ]
    }
   ],
   "source": [
    "def train_neural_network(session, optimizer, keep_probability, feature_batch, label_batch):\n",
    "    \"\"\"\n",
    "    Optimize the session on a batch of images and labels\n",
    "    : session: Current TensorFlow session\n",
    "    : optimizer: TensorFlow optimizer function\n",
    "    : keep_probability: keep probability\n",
    "    : feature_batch: Batch of Numpy image data\n",
    "    : label_batch: Batch of Numpy label data\n",
    "    \"\"\"\n",
    "    # TODO: Implement Function\n",
    "    session.run(optimizer, feed_dict={\n",
    "        x: feature_batch,\n",
    "        y: label_batch,\n",
    "        keep_prob: keep_probability\n",
    "    })\n",
    "\n",
    "\n",
    "\"\"\"\n",
    "DON'T MODIFY ANYTHING IN THIS CELL THAT IS BELOW THIS LINE\n",
    "\"\"\"\n",
    "tests.test_train_nn(train_neural_network)"
   ]
  },
  {
   "cell_type": "markdown",
   "metadata": {},
   "source": [
    "### Show Stats\n",
    "Implement the function `print_stats` to print loss and validation accuracy.  Use the global variables `valid_features` and `valid_labels` to calculate validation accuracy.  Use a keep probability of `1.0` to calculate the loss and validation accuracy."
   ]
  },
  {
   "cell_type": "code",
   "execution_count": 14,
   "metadata": {
    "collapsed": false
   },
   "outputs": [],
   "source": [
    "def print_stats(session, feature_batch, label_batch, cost, accuracy):\n",
    "    \"\"\"\n",
    "    Print information about loss and validation accuracy\n",
    "    : session: Current TensorFlow session\n",
    "    : feature_batch: Batch of Numpy image data\n",
    "    : label_batch: Batch of Numpy label data\n",
    "    : cost: TensorFlow cost function\n",
    "    : accuracy: TensorFlow accuracy function\n",
    "    \"\"\"\n",
    "    # TODO: Implement Function\n",
    "    loss = session.run(cost, feed_dict={\n",
    "        x: feature_batch,\n",
    "        y: label_batch,\n",
    "        keep_prob: 1.0\n",
    "    })\n",
    "    \n",
    "    valid_accuracy = session.run(accuracy, feed_dict={\n",
    "        x: valid_features,\n",
    "        y: valid_labels,\n",
    "        keep_prob: 1.0\n",
    "    })\n",
    "\n",
    "    print('The loss is: {:>10.5f} The validation accuracy is : {:0.6f}'.format(loss, valid_accuracy))"
   ]
  },
  {
   "cell_type": "markdown",
   "metadata": {},
   "source": [
    "### Hyperparameters\n",
    "Tune the following parameters:\n",
    "* Set `epochs` to the number of iterations until the network stops learning or start overfitting\n",
    "* Set `batch_size` to the highest number that your machine has memory for.  Most people set them to common sizes of memory:\n",
    " * 64\n",
    " * 128\n",
    " * 256\n",
    " * ...\n",
    "* Set `keep_probability` to the probability of keeping a node using dropout"
   ]
  },
  {
   "cell_type": "code",
   "execution_count": 15,
   "metadata": {
    "collapsed": true
   },
   "outputs": [],
   "source": [
    "# TODO: Tune Parameters\n",
    "epochs = 55\n",
    "batch_size = 256\n",
    "keep_probability = 0.5"
   ]
  },
  {
   "cell_type": "markdown",
   "metadata": {},
   "source": [
    "### Train on a Single CIFAR-10 Batch\n",
    "Instead of training the neural network on all the CIFAR-10 batches of data, let's use a single batch. This should save time while you iterate on the model to get a better accuracy.  Once the final validation accuracy is 50% or greater, run the model on all the data in the next section."
   ]
  },
  {
   "cell_type": "code",
   "execution_count": 16,
   "metadata": {
    "collapsed": false
   },
   "outputs": [
    {
     "name": "stdout",
     "output_type": "stream",
     "text": [
      "Checking the Training on a Single Batch...\n",
      "Epoch  1, CIFAR-10 Batch 1:  The loss is:    2.18824 The validation accuracy is : 0.200200\n",
      "Epoch  2, CIFAR-10 Batch 1:  The loss is:    2.08014 The validation accuracy is : 0.285400\n",
      "Epoch  3, CIFAR-10 Batch 1:  The loss is:    1.86451 The validation accuracy is : 0.339400\n",
      "Epoch  4, CIFAR-10 Batch 1:  The loss is:    1.65891 The validation accuracy is : 0.386600\n",
      "Epoch  5, CIFAR-10 Batch 1:  The loss is:    1.53705 The validation accuracy is : 0.412400\n",
      "Epoch  6, CIFAR-10 Batch 1:  The loss is:    1.45449 The validation accuracy is : 0.431400\n",
      "Epoch  7, CIFAR-10 Batch 1:  The loss is:    1.38989 The validation accuracy is : 0.438400\n",
      "Epoch  8, CIFAR-10 Batch 1:  The loss is:    1.28314 The validation accuracy is : 0.451600\n",
      "Epoch  9, CIFAR-10 Batch 1:  The loss is:    1.20028 The validation accuracy is : 0.459200\n",
      "Epoch 10, CIFAR-10 Batch 1:  The loss is:    1.10944 The validation accuracy is : 0.477400\n",
      "Epoch 11, CIFAR-10 Batch 1:  The loss is:    1.00267 The validation accuracy is : 0.495000\n",
      "Epoch 12, CIFAR-10 Batch 1:  The loss is:    0.97553 The validation accuracy is : 0.485200\n",
      "Epoch 13, CIFAR-10 Batch 1:  The loss is:    0.94708 The validation accuracy is : 0.481600\n",
      "Epoch 14, CIFAR-10 Batch 1:  The loss is:    0.79851 The validation accuracy is : 0.501000\n",
      "Epoch 15, CIFAR-10 Batch 1:  The loss is:    0.75246 The validation accuracy is : 0.516200\n",
      "Epoch 16, CIFAR-10 Batch 1:  The loss is:    0.70484 The validation accuracy is : 0.525400\n",
      "Epoch 17, CIFAR-10 Batch 1:  The loss is:    0.66256 The validation accuracy is : 0.528000\n",
      "Epoch 18, CIFAR-10 Batch 1:  The loss is:    0.59507 The validation accuracy is : 0.531000\n",
      "Epoch 19, CIFAR-10 Batch 1:  The loss is:    0.56775 The validation accuracy is : 0.527800\n",
      "Epoch 20, CIFAR-10 Batch 1:  The loss is:    0.54631 The validation accuracy is : 0.543000\n",
      "Epoch 21, CIFAR-10 Batch 1:  The loss is:    0.52733 The validation accuracy is : 0.546000\n",
      "Epoch 22, CIFAR-10 Batch 1:  The loss is:    0.47327 The validation accuracy is : 0.537400\n",
      "Epoch 23, CIFAR-10 Batch 1:  The loss is:    0.45213 The validation accuracy is : 0.536200\n",
      "Epoch 24, CIFAR-10 Batch 1:  The loss is:    0.37056 The validation accuracy is : 0.551200\n",
      "Epoch 25, CIFAR-10 Batch 1:  The loss is:    0.38275 The validation accuracy is : 0.541200\n",
      "Epoch 26, CIFAR-10 Batch 1:  The loss is:    0.35213 The validation accuracy is : 0.554600\n",
      "Epoch 27, CIFAR-10 Batch 1:  The loss is:    0.36840 The validation accuracy is : 0.540600\n",
      "Epoch 28, CIFAR-10 Batch 1:  The loss is:    0.28733 The validation accuracy is : 0.558200\n",
      "Epoch 29, CIFAR-10 Batch 1:  The loss is:    0.28595 The validation accuracy is : 0.561800\n",
      "Epoch 30, CIFAR-10 Batch 1:  The loss is:    0.28683 The validation accuracy is : 0.553400\n",
      "Epoch 31, CIFAR-10 Batch 1:  The loss is:    0.24640 The validation accuracy is : 0.550000\n",
      "Epoch 32, CIFAR-10 Batch 1:  The loss is:    0.22294 The validation accuracy is : 0.542400\n",
      "Epoch 33, CIFAR-10 Batch 1:  The loss is:    0.19786 The validation accuracy is : 0.546400\n",
      "Epoch 34, CIFAR-10 Batch 1:  The loss is:    0.19696 The validation accuracy is : 0.559000\n",
      "Epoch 35, CIFAR-10 Batch 1:  The loss is:    0.18071 The validation accuracy is : 0.561800\n",
      "Epoch 36, CIFAR-10 Batch 1:  The loss is:    0.17977 The validation accuracy is : 0.556000\n",
      "Epoch 37, CIFAR-10 Batch 1:  The loss is:    0.14472 The validation accuracy is : 0.539600\n",
      "Epoch 38, CIFAR-10 Batch 1:  The loss is:    0.12333 The validation accuracy is : 0.544400\n",
      "Epoch 39, CIFAR-10 Batch 1:  The loss is:    0.13423 The validation accuracy is : 0.535400\n",
      "Epoch 40, CIFAR-10 Batch 1:  The loss is:    0.14761 The validation accuracy is : 0.545400\n",
      "Epoch 41, CIFAR-10 Batch 1:  The loss is:    0.12394 The validation accuracy is : 0.547600\n",
      "Epoch 42, CIFAR-10 Batch 1:  The loss is:    0.10514 The validation accuracy is : 0.554800\n",
      "Epoch 43, CIFAR-10 Batch 1:  The loss is:    0.08255 The validation accuracy is : 0.551200\n",
      "Epoch 44, CIFAR-10 Batch 1:  The loss is:    0.08836 The validation accuracy is : 0.537800\n",
      "Epoch 45, CIFAR-10 Batch 1:  The loss is:    0.09206 The validation accuracy is : 0.544400\n",
      "Epoch 46, CIFAR-10 Batch 1:  The loss is:    0.10348 The validation accuracy is : 0.528000\n",
      "Epoch 47, CIFAR-10 Batch 1:  The loss is:    0.09643 The validation accuracy is : 0.537800\n",
      "Epoch 48, CIFAR-10 Batch 1:  The loss is:    0.07921 The validation accuracy is : 0.533200\n",
      "Epoch 49, CIFAR-10 Batch 1:  The loss is:    0.05855 The validation accuracy is : 0.535600\n",
      "Epoch 50, CIFAR-10 Batch 1:  The loss is:    0.04953 The validation accuracy is : 0.547000\n",
      "Epoch 51, CIFAR-10 Batch 1:  The loss is:    0.05098 The validation accuracy is : 0.552000\n",
      "Epoch 52, CIFAR-10 Batch 1:  The loss is:    0.03982 The validation accuracy is : 0.549200\n",
      "Epoch 53, CIFAR-10 Batch 1:  The loss is:    0.03282 The validation accuracy is : 0.560400\n",
      "Epoch 54, CIFAR-10 Batch 1:  The loss is:    0.03624 The validation accuracy is : 0.549800\n",
      "Epoch 55, CIFAR-10 Batch 1:  The loss is:    0.03049 The validation accuracy is : 0.546800\n"
     ]
    }
   ],
   "source": [
    "\"\"\"\n",
    "DON'T MODIFY ANYTHING IN THIS CELL\n",
    "\"\"\"\n",
    "print('Checking the Training on a Single Batch...')\n",
    "with tf.Session() as sess:\n",
    "    # Initializing the variables\n",
    "    sess.run(tf.global_variables_initializer())\n",
    "    \n",
    "    # Training cycle\n",
    "    for epoch in range(epochs):\n",
    "        batch_i = 1\n",
    "        for batch_features, batch_labels in helper.load_preprocess_training_batch(batch_i, batch_size):\n",
    "            train_neural_network(sess, optimizer, keep_probability, batch_features, batch_labels)\n",
    "        print('Epoch {:>2}, CIFAR-10 Batch {}:  '.format(epoch + 1, batch_i), end='')\n",
    "        print_stats(sess, batch_features, batch_labels, cost, accuracy)"
   ]
  },
  {
   "cell_type": "markdown",
   "metadata": {},
   "source": [
    "### Fully Train the Model\n",
    "Now that you got a good accuracy with a single CIFAR-10 batch, try it with all five batches."
   ]
  },
  {
   "cell_type": "code",
   "execution_count": 17,
   "metadata": {
    "collapsed": false,
    "scrolled": false
   },
   "outputs": [
    {
     "name": "stdout",
     "output_type": "stream",
     "text": [
      "Training...\n",
      "Epoch  1, CIFAR-10 Batch 1:  The loss is:    2.19780 The validation accuracy is : 0.193800\n",
      "Epoch  1, CIFAR-10 Batch 2:  The loss is:    2.03655 The validation accuracy is : 0.307800\n",
      "Epoch  1, CIFAR-10 Batch 3:  The loss is:    1.62813 The validation accuracy is : 0.350200\n",
      "Epoch  1, CIFAR-10 Batch 4:  The loss is:    1.62410 The validation accuracy is : 0.386800\n",
      "Epoch  1, CIFAR-10 Batch 5:  The loss is:    1.51323 The validation accuracy is : 0.423200\n",
      "Epoch  2, CIFAR-10 Batch 1:  The loss is:    1.69287 The validation accuracy is : 0.429800\n",
      "Epoch  2, CIFAR-10 Batch 2:  The loss is:    1.55509 The validation accuracy is : 0.457800\n",
      "Epoch  2, CIFAR-10 Batch 3:  The loss is:    1.37985 The validation accuracy is : 0.449600\n",
      "Epoch  2, CIFAR-10 Batch 4:  The loss is:    1.36026 The validation accuracy is : 0.479600\n",
      "Epoch  2, CIFAR-10 Batch 5:  The loss is:    1.32164 The validation accuracy is : 0.488000\n",
      "Epoch  3, CIFAR-10 Batch 1:  The loss is:    1.37448 The validation accuracy is : 0.503400\n",
      "Epoch  3, CIFAR-10 Batch 2:  The loss is:    1.25539 The validation accuracy is : 0.495800\n",
      "Epoch  3, CIFAR-10 Batch 3:  The loss is:    1.17618 The validation accuracy is : 0.510400\n",
      "Epoch  3, CIFAR-10 Batch 4:  The loss is:    1.20926 The validation accuracy is : 0.521600\n",
      "Epoch  3, CIFAR-10 Batch 5:  The loss is:    1.21284 The validation accuracy is : 0.521800\n",
      "Epoch  4, CIFAR-10 Batch 1:  The loss is:    1.23364 The validation accuracy is : 0.536000\n",
      "Epoch  4, CIFAR-10 Batch 2:  The loss is:    1.10216 The validation accuracy is : 0.535200\n",
      "Epoch  4, CIFAR-10 Batch 3:  The loss is:    1.02002 The validation accuracy is : 0.538200\n",
      "Epoch  4, CIFAR-10 Batch 4:  The loss is:    1.07208 The validation accuracy is : 0.557400\n",
      "Epoch  4, CIFAR-10 Batch 5:  The loss is:    1.13615 The validation accuracy is : 0.550400\n",
      "Epoch  5, CIFAR-10 Batch 1:  The loss is:    1.07872 The validation accuracy is : 0.556400\n",
      "Epoch  5, CIFAR-10 Batch 2:  The loss is:    0.97879 The validation accuracy is : 0.560400\n",
      "Epoch  5, CIFAR-10 Batch 3:  The loss is:    0.91028 The validation accuracy is : 0.566200\n",
      "Epoch  5, CIFAR-10 Batch 4:  The loss is:    0.93911 The validation accuracy is : 0.582800\n",
      "Epoch  5, CIFAR-10 Batch 5:  The loss is:    1.01061 The validation accuracy is : 0.565200\n",
      "Epoch  6, CIFAR-10 Batch 1:  The loss is:    0.98820 The validation accuracy is : 0.571800\n",
      "Epoch  6, CIFAR-10 Batch 2:  The loss is:    0.81350 The validation accuracy is : 0.583600\n",
      "Epoch  6, CIFAR-10 Batch 3:  The loss is:    0.80877 The validation accuracy is : 0.576600\n",
      "Epoch  6, CIFAR-10 Batch 4:  The loss is:    0.88251 The validation accuracy is : 0.583800\n",
      "Epoch  6, CIFAR-10 Batch 5:  The loss is:    0.90452 The validation accuracy is : 0.597600\n",
      "Epoch  7, CIFAR-10 Batch 1:  The loss is:    0.88022 The validation accuracy is : 0.577200\n",
      "Epoch  7, CIFAR-10 Batch 2:  The loss is:    0.71896 The validation accuracy is : 0.597400\n",
      "Epoch  7, CIFAR-10 Batch 3:  The loss is:    0.72422 The validation accuracy is : 0.590600\n",
      "Epoch  7, CIFAR-10 Batch 4:  The loss is:    0.77180 The validation accuracy is : 0.611600\n",
      "Epoch  7, CIFAR-10 Batch 5:  The loss is:    0.80119 The validation accuracy is : 0.605000\n",
      "Epoch  8, CIFAR-10 Batch 1:  The loss is:    0.79916 The validation accuracy is : 0.596600\n",
      "Epoch  8, CIFAR-10 Batch 2:  The loss is:    0.68847 The validation accuracy is : 0.606200\n",
      "Epoch  8, CIFAR-10 Batch 3:  The loss is:    0.64903 The validation accuracy is : 0.613000\n",
      "Epoch  8, CIFAR-10 Batch 4:  The loss is:    0.72346 The validation accuracy is : 0.612800\n",
      "Epoch  8, CIFAR-10 Batch 5:  The loss is:    0.70262 The validation accuracy is : 0.623800\n",
      "Epoch  9, CIFAR-10 Batch 1:  The loss is:    0.74076 The validation accuracy is : 0.605200\n",
      "Epoch  9, CIFAR-10 Batch 2:  The loss is:    0.60331 The validation accuracy is : 0.614000\n",
      "Epoch  9, CIFAR-10 Batch 3:  The loss is:    0.56978 The validation accuracy is : 0.611800\n",
      "Epoch  9, CIFAR-10 Batch 4:  The loss is:    0.68652 The validation accuracy is : 0.620200\n",
      "Epoch  9, CIFAR-10 Batch 5:  The loss is:    0.61699 The validation accuracy is : 0.632400\n",
      "Epoch 10, CIFAR-10 Batch 1:  The loss is:    0.64968 The validation accuracy is : 0.618200\n",
      "Epoch 10, CIFAR-10 Batch 2:  The loss is:    0.53347 The validation accuracy is : 0.621800\n",
      "Epoch 10, CIFAR-10 Batch 3:  The loss is:    0.49493 The validation accuracy is : 0.622600\n",
      "Epoch 10, CIFAR-10 Batch 4:  The loss is:    0.62211 The validation accuracy is : 0.641600\n",
      "Epoch 10, CIFAR-10 Batch 5:  The loss is:    0.56827 The validation accuracy is : 0.638600\n",
      "Epoch 11, CIFAR-10 Batch 1:  The loss is:    0.67241 The validation accuracy is : 0.639400\n",
      "Epoch 11, CIFAR-10 Batch 2:  The loss is:    0.50112 The validation accuracy is : 0.637400\n",
      "Epoch 11, CIFAR-10 Batch 3:  The loss is:    0.52509 The validation accuracy is : 0.630800\n",
      "Epoch 11, CIFAR-10 Batch 4:  The loss is:    0.53702 The validation accuracy is : 0.647400\n",
      "Epoch 11, CIFAR-10 Batch 5:  The loss is:    0.54640 The validation accuracy is : 0.644800\n",
      "Epoch 12, CIFAR-10 Batch 1:  The loss is:    0.61404 The validation accuracy is : 0.606000\n",
      "Epoch 12, CIFAR-10 Batch 2:  The loss is:    0.45840 The validation accuracy is : 0.642400\n",
      "Epoch 12, CIFAR-10 Batch 3:  The loss is:    0.41920 The validation accuracy is : 0.648200\n",
      "Epoch 12, CIFAR-10 Batch 4:  The loss is:    0.48641 The validation accuracy is : 0.660800\n",
      "Epoch 12, CIFAR-10 Batch 5:  The loss is:    0.47226 The validation accuracy is : 0.658400\n",
      "Epoch 13, CIFAR-10 Batch 1:  The loss is:    0.49528 The validation accuracy is : 0.639400\n",
      "Epoch 13, CIFAR-10 Batch 2:  The loss is:    0.44449 The validation accuracy is : 0.639000\n",
      "Epoch 13, CIFAR-10 Batch 3:  The loss is:    0.39807 The validation accuracy is : 0.644400\n",
      "Epoch 13, CIFAR-10 Batch 4:  The loss is:    0.41245 The validation accuracy is : 0.659000\n",
      "Epoch 13, CIFAR-10 Batch 5:  The loss is:    0.43664 The validation accuracy is : 0.655200\n",
      "Epoch 14, CIFAR-10 Batch 1:  The loss is:    0.46436 The validation accuracy is : 0.640200\n",
      "Epoch 14, CIFAR-10 Batch 2:  The loss is:    0.35522 The validation accuracy is : 0.657200\n",
      "Epoch 14, CIFAR-10 Batch 3:  The loss is:    0.36270 The validation accuracy is : 0.644600\n",
      "Epoch 14, CIFAR-10 Batch 4:  The loss is:    0.40223 The validation accuracy is : 0.665600\n",
      "Epoch 14, CIFAR-10 Batch 5:  The loss is:    0.39737 The validation accuracy is : 0.667000\n",
      "Epoch 15, CIFAR-10 Batch 1:  The loss is:    0.39907 The validation accuracy is : 0.646600\n",
      "Epoch 15, CIFAR-10 Batch 2:  The loss is:    0.32208 The validation accuracy is : 0.664600\n",
      "Epoch 15, CIFAR-10 Batch 3:  The loss is:    0.30684 The validation accuracy is : 0.653400\n",
      "Epoch 15, CIFAR-10 Batch 4:  The loss is:    0.35462 The validation accuracy is : 0.659800\n",
      "Epoch 15, CIFAR-10 Batch 5:  The loss is:    0.36044 The validation accuracy is : 0.676000\n",
      "Epoch 16, CIFAR-10 Batch 1:  The loss is:    0.37526 The validation accuracy is : 0.655200\n",
      "Epoch 16, CIFAR-10 Batch 2:  The loss is:    0.30228 The validation accuracy is : 0.669200\n",
      "Epoch 16, CIFAR-10 Batch 3:  The loss is:    0.28114 The validation accuracy is : 0.657000\n",
      "Epoch 16, CIFAR-10 Batch 4:  The loss is:    0.33267 The validation accuracy is : 0.674000\n",
      "Epoch 16, CIFAR-10 Batch 5:  The loss is:    0.33034 The validation accuracy is : 0.673200\n",
      "Epoch 17, CIFAR-10 Batch 1:  The loss is:    0.31329 The validation accuracy is : 0.652800\n",
      "Epoch 17, CIFAR-10 Batch 2:  The loss is:    0.26951 The validation accuracy is : 0.665600\n",
      "Epoch 17, CIFAR-10 Batch 3:  The loss is:    0.27760 The validation accuracy is : 0.651000\n",
      "Epoch 17, CIFAR-10 Batch 4:  The loss is:    0.28833 The validation accuracy is : 0.669000\n",
      "Epoch 17, CIFAR-10 Batch 5:  The loss is:    0.31096 The validation accuracy is : 0.674000\n",
      "Epoch 18, CIFAR-10 Batch 1:  The loss is:    0.29502 The validation accuracy is : 0.649400\n",
      "Epoch 18, CIFAR-10 Batch 2:  The loss is:    0.24433 The validation accuracy is : 0.676400\n",
      "Epoch 18, CIFAR-10 Batch 3:  The loss is:    0.22374 The validation accuracy is : 0.655800\n",
      "Epoch 18, CIFAR-10 Batch 4:  The loss is:    0.29887 The validation accuracy is : 0.671800\n",
      "Epoch 18, CIFAR-10 Batch 5:  The loss is:    0.28546 The validation accuracy is : 0.677600\n",
      "Epoch 19, CIFAR-10 Batch 1:  The loss is:    0.28786 The validation accuracy is : 0.666800\n",
      "Epoch 19, CIFAR-10 Batch 2:  The loss is:    0.20003 The validation accuracy is : 0.661200\n",
      "Epoch 19, CIFAR-10 Batch 3:  The loss is:    0.22587 The validation accuracy is : 0.660000\n",
      "Epoch 19, CIFAR-10 Batch 4:  The loss is:    0.26276 The validation accuracy is : 0.682800\n",
      "Epoch 19, CIFAR-10 Batch 5:  The loss is:    0.25264 The validation accuracy is : 0.677200\n",
      "Epoch 20, CIFAR-10 Batch 1:  The loss is:    0.26735 The validation accuracy is : 0.652800\n",
      "Epoch 20, CIFAR-10 Batch 2:  The loss is:    0.20010 The validation accuracy is : 0.663800\n",
      "Epoch 20, CIFAR-10 Batch 3:  The loss is:    0.21854 The validation accuracy is : 0.671000\n",
      "Epoch 20, CIFAR-10 Batch 4:  The loss is:    0.26016 The validation accuracy is : 0.678800\n",
      "Epoch 20, CIFAR-10 Batch 5:  The loss is:    0.22751 The validation accuracy is : 0.689600\n",
      "Epoch 21, CIFAR-10 Batch 1:  The loss is:    0.26287 The validation accuracy is : 0.676600\n",
      "Epoch 21, CIFAR-10 Batch 2:  The loss is:    0.18388 The validation accuracy is : 0.674000\n",
      "Epoch 21, CIFAR-10 Batch 3:  The loss is:    0.20736 The validation accuracy is : 0.652800\n",
      "Epoch 21, CIFAR-10 Batch 4:  The loss is:    0.26900 The validation accuracy is : 0.679600\n",
      "Epoch 21, CIFAR-10 Batch 5:  The loss is:    0.20391 The validation accuracy is : 0.687000\n",
      "Epoch 22, CIFAR-10 Batch 1:  The loss is:    0.22673 The validation accuracy is : 0.679400\n",
      "Epoch 22, CIFAR-10 Batch 2:  The loss is:    0.15882 The validation accuracy is : 0.666400\n",
      "Epoch 22, CIFAR-10 Batch 3:  The loss is:    0.21905 The validation accuracy is : 0.649600\n",
      "Epoch 22, CIFAR-10 Batch 4:  The loss is:    0.25317 The validation accuracy is : 0.681400\n",
      "Epoch 22, CIFAR-10 Batch 5:  The loss is:    0.22206 The validation accuracy is : 0.672000\n",
      "Epoch 23, CIFAR-10 Batch 1:  The loss is:    0.22382 The validation accuracy is : 0.678400\n",
      "Epoch 23, CIFAR-10 Batch 2:  The loss is:    0.15862 The validation accuracy is : 0.671800\n",
      "Epoch 23, CIFAR-10 Batch 3:  The loss is:    0.21751 The validation accuracy is : 0.652600\n",
      "Epoch 23, CIFAR-10 Batch 4:  The loss is:    0.20196 The validation accuracy is : 0.677800\n",
      "Epoch 23, CIFAR-10 Batch 5:  The loss is:    0.18712 The validation accuracy is : 0.681400\n",
      "Epoch 24, CIFAR-10 Batch 1:  The loss is:    0.19384 The validation accuracy is : 0.688600\n",
      "Epoch 24, CIFAR-10 Batch 2:  The loss is:    0.14223 The validation accuracy is : 0.669000\n",
      "Epoch 24, CIFAR-10 Batch 3:  The loss is:    0.17610 The validation accuracy is : 0.647800\n",
      "Epoch 24, CIFAR-10 Batch 4:  The loss is:    0.17562 The validation accuracy is : 0.693200\n",
      "Epoch 24, CIFAR-10 Batch 5:  The loss is:    0.15886 The validation accuracy is : 0.695600\n",
      "Epoch 25, CIFAR-10 Batch 1:  The loss is:    0.19614 The validation accuracy is : 0.682600\n",
      "Epoch 25, CIFAR-10 Batch 2:  The loss is:    0.12780 The validation accuracy is : 0.679800\n",
      "Epoch 25, CIFAR-10 Batch 3:  The loss is:    0.14912 The validation accuracy is : 0.654400\n",
      "Epoch 25, CIFAR-10 Batch 4:  The loss is:    0.15072 The validation accuracy is : 0.691400\n",
      "Epoch 25, CIFAR-10 Batch 5:  The loss is:    0.14091 The validation accuracy is : 0.693400\n",
      "Epoch 26, CIFAR-10 Batch 1:  The loss is:    0.17760 The validation accuracy is : 0.685600\n",
      "Epoch 26, CIFAR-10 Batch 2:  The loss is:    0.13063 The validation accuracy is : 0.683600\n",
      "Epoch 26, CIFAR-10 Batch 3:  The loss is:    0.13067 The validation accuracy is : 0.667400\n",
      "Epoch 26, CIFAR-10 Batch 4:  The loss is:    0.15561 The validation accuracy is : 0.682000\n",
      "Epoch 26, CIFAR-10 Batch 5:  The loss is:    0.15860 The validation accuracy is : 0.679200\n",
      "Epoch 27, CIFAR-10 Batch 1:  The loss is:    0.17738 The validation accuracy is : 0.684600\n",
      "Epoch 27, CIFAR-10 Batch 2:  The loss is:    0.12212 The validation accuracy is : 0.667000\n",
      "Epoch 27, CIFAR-10 Batch 3:  The loss is:    0.15797 The validation accuracy is : 0.678600\n",
      "Epoch 27, CIFAR-10 Batch 4:  The loss is:    0.16200 The validation accuracy is : 0.686600\n",
      "Epoch 27, CIFAR-10 Batch 5:  The loss is:    0.12842 The validation accuracy is : 0.680600\n",
      "Epoch 28, CIFAR-10 Batch 1:  The loss is:    0.16855 The validation accuracy is : 0.691000\n",
      "Epoch 28, CIFAR-10 Batch 2:  The loss is:    0.15078 The validation accuracy is : 0.666800\n",
      "Epoch 28, CIFAR-10 Batch 3:  The loss is:    0.12901 The validation accuracy is : 0.682000\n",
      "Epoch 28, CIFAR-10 Batch 4:  The loss is:    0.13619 The validation accuracy is : 0.689600\n",
      "Epoch 28, CIFAR-10 Batch 5:  The loss is:    0.12408 The validation accuracy is : 0.666600\n",
      "Epoch 29, CIFAR-10 Batch 1:  The loss is:    0.17602 The validation accuracy is : 0.680000\n",
      "Epoch 29, CIFAR-10 Batch 2:  The loss is:    0.12600 The validation accuracy is : 0.661200\n",
      "Epoch 29, CIFAR-10 Batch 3:  The loss is:    0.12176 The validation accuracy is : 0.673600\n",
      "Epoch 29, CIFAR-10 Batch 4:  The loss is:    0.14210 The validation accuracy is : 0.689800\n",
      "Epoch 29, CIFAR-10 Batch 5:  The loss is:    0.12395 The validation accuracy is : 0.680000\n",
      "Epoch 30, CIFAR-10 Batch 1:  The loss is:    0.15365 The validation accuracy is : 0.681200\n",
      "Epoch 30, CIFAR-10 Batch 2:  The loss is:    0.12435 The validation accuracy is : 0.667800\n",
      "Epoch 30, CIFAR-10 Batch 3:  The loss is:    0.11471 The validation accuracy is : 0.685800\n",
      "Epoch 30, CIFAR-10 Batch 4:  The loss is:    0.12156 The validation accuracy is : 0.691600\n",
      "Epoch 30, CIFAR-10 Batch 5:  The loss is:    0.13790 The validation accuracy is : 0.693800\n",
      "Epoch 31, CIFAR-10 Batch 1:  The loss is:    0.15337 The validation accuracy is : 0.688800\n",
      "Epoch 31, CIFAR-10 Batch 2:  The loss is:    0.11730 The validation accuracy is : 0.677000\n",
      "Epoch 31, CIFAR-10 Batch 3:  The loss is:    0.09233 The validation accuracy is : 0.684400\n",
      "Epoch 31, CIFAR-10 Batch 4:  The loss is:    0.10490 The validation accuracy is : 0.697600\n",
      "Epoch 31, CIFAR-10 Batch 5:  The loss is:    0.11992 The validation accuracy is : 0.690000\n",
      "Epoch 32, CIFAR-10 Batch 1:  The loss is:    0.13826 The validation accuracy is : 0.680200\n",
      "Epoch 32, CIFAR-10 Batch 2:  The loss is:    0.10437 The validation accuracy is : 0.668000\n",
      "Epoch 32, CIFAR-10 Batch 3:  The loss is:    0.10153 The validation accuracy is : 0.685600\n",
      "Epoch 32, CIFAR-10 Batch 4:  The loss is:    0.09528 The validation accuracy is : 0.690800\n",
      "Epoch 32, CIFAR-10 Batch 5:  The loss is:    0.09918 The validation accuracy is : 0.685800\n",
      "Epoch 33, CIFAR-10 Batch 1:  The loss is:    0.11491 The validation accuracy is : 0.679800\n",
      "Epoch 33, CIFAR-10 Batch 2:  The loss is:    0.12071 The validation accuracy is : 0.665000\n",
      "Epoch 33, CIFAR-10 Batch 3:  The loss is:    0.11241 The validation accuracy is : 0.691600\n",
      "Epoch 33, CIFAR-10 Batch 4:  The loss is:    0.09405 The validation accuracy is : 0.687600\n",
      "Epoch 33, CIFAR-10 Batch 5:  The loss is:    0.09478 The validation accuracy is : 0.694000\n",
      "Epoch 34, CIFAR-10 Batch 1:  The loss is:    0.13598 The validation accuracy is : 0.667400\n",
      "Epoch 34, CIFAR-10 Batch 2:  The loss is:    0.11311 The validation accuracy is : 0.659000\n",
      "Epoch 34, CIFAR-10 Batch 3:  The loss is:    0.08617 The validation accuracy is : 0.684400\n",
      "Epoch 34, CIFAR-10 Batch 4:  The loss is:    0.07567 The validation accuracy is : 0.693600\n",
      "Epoch 34, CIFAR-10 Batch 5:  The loss is:    0.08544 The validation accuracy is : 0.696800\n",
      "Epoch 35, CIFAR-10 Batch 1:  The loss is:    0.11529 The validation accuracy is : 0.678200\n",
      "Epoch 35, CIFAR-10 Batch 2:  The loss is:    0.09825 The validation accuracy is : 0.656400\n",
      "Epoch 35, CIFAR-10 Batch 3:  The loss is:    0.08900 The validation accuracy is : 0.689600\n",
      "Epoch 35, CIFAR-10 Batch 4:  The loss is:    0.08174 The validation accuracy is : 0.695000\n",
      "Epoch 35, CIFAR-10 Batch 5:  The loss is:    0.08813 The validation accuracy is : 0.693800\n",
      "Epoch 36, CIFAR-10 Batch 1:  The loss is:    0.09621 The validation accuracy is : 0.675800\n",
      "Epoch 36, CIFAR-10 Batch 2:  The loss is:    0.07573 The validation accuracy is : 0.678000\n",
      "Epoch 36, CIFAR-10 Batch 3:  The loss is:    0.06218 The validation accuracy is : 0.690400\n",
      "Epoch 36, CIFAR-10 Batch 4:  The loss is:    0.08862 The validation accuracy is : 0.683200\n",
      "Epoch 36, CIFAR-10 Batch 5:  The loss is:    0.09714 The validation accuracy is : 0.695600\n",
      "Epoch 37, CIFAR-10 Batch 1:  The loss is:    0.13333 The validation accuracy is : 0.679800\n",
      "Epoch 37, CIFAR-10 Batch 2:  The loss is:    0.06668 The validation accuracy is : 0.681600\n",
      "Epoch 37, CIFAR-10 Batch 3:  The loss is:    0.07563 The validation accuracy is : 0.690400\n",
      "Epoch 37, CIFAR-10 Batch 4:  The loss is:    0.07646 The validation accuracy is : 0.689000\n",
      "Epoch 37, CIFAR-10 Batch 5:  The loss is:    0.09038 The validation accuracy is : 0.686800\n",
      "Epoch 38, CIFAR-10 Batch 1:  The loss is:    0.09989 The validation accuracy is : 0.669000\n",
      "Epoch 38, CIFAR-10 Batch 2:  The loss is:    0.08345 The validation accuracy is : 0.690800\n",
      "Epoch 38, CIFAR-10 Batch 3:  The loss is:    0.07051 The validation accuracy is : 0.685200\n",
      "Epoch 38, CIFAR-10 Batch 4:  The loss is:    0.08422 The validation accuracy is : 0.685800\n",
      "Epoch 38, CIFAR-10 Batch 5:  The loss is:    0.08911 The validation accuracy is : 0.678000\n",
      "Epoch 39, CIFAR-10 Batch 1:  The loss is:    0.11078 The validation accuracy is : 0.676800\n",
      "Epoch 39, CIFAR-10 Batch 2:  The loss is:    0.06565 The validation accuracy is : 0.691600\n",
      "Epoch 39, CIFAR-10 Batch 3:  The loss is:    0.06789 The validation accuracy is : 0.689600\n",
      "Epoch 39, CIFAR-10 Batch 4:  The loss is:    0.05850 The validation accuracy is : 0.685200\n",
      "Epoch 39, CIFAR-10 Batch 5:  The loss is:    0.05766 The validation accuracy is : 0.687200\n",
      "Epoch 40, CIFAR-10 Batch 1:  The loss is:    0.11149 The validation accuracy is : 0.675400\n",
      "Epoch 40, CIFAR-10 Batch 2:  The loss is:    0.07063 The validation accuracy is : 0.682400\n",
      "Epoch 40, CIFAR-10 Batch 3:  The loss is:    0.07205 The validation accuracy is : 0.693400\n",
      "Epoch 40, CIFAR-10 Batch 4:  The loss is:    0.05862 The validation accuracy is : 0.682200\n",
      "Epoch 40, CIFAR-10 Batch 5:  The loss is:    0.07550 The validation accuracy is : 0.665000\n",
      "Epoch 41, CIFAR-10 Batch 1:  The loss is:    0.09216 The validation accuracy is : 0.676000\n",
      "Epoch 41, CIFAR-10 Batch 2:  The loss is:    0.07431 The validation accuracy is : 0.680800\n",
      "Epoch 41, CIFAR-10 Batch 3:  The loss is:    0.06436 The validation accuracy is : 0.693200\n",
      "Epoch 41, CIFAR-10 Batch 4:  The loss is:    0.05740 The validation accuracy is : 0.684200\n",
      "Epoch 41, CIFAR-10 Batch 5:  The loss is:    0.06339 The validation accuracy is : 0.671000\n",
      "Epoch 42, CIFAR-10 Batch 1:  The loss is:    0.10297 The validation accuracy is : 0.672800\n",
      "Epoch 42, CIFAR-10 Batch 2:  The loss is:    0.05759 The validation accuracy is : 0.688600\n",
      "Epoch 42, CIFAR-10 Batch 3:  The loss is:    0.05767 The validation accuracy is : 0.695600\n",
      "Epoch 42, CIFAR-10 Batch 4:  The loss is:    0.07771 The validation accuracy is : 0.691000\n",
      "Epoch 42, CIFAR-10 Batch 5:  The loss is:    0.05112 The validation accuracy is : 0.689600\n",
      "Epoch 43, CIFAR-10 Batch 1:  The loss is:    0.07531 The validation accuracy is : 0.678400\n",
      "Epoch 43, CIFAR-10 Batch 2:  The loss is:    0.05223 The validation accuracy is : 0.685600\n",
      "Epoch 43, CIFAR-10 Batch 3:  The loss is:    0.04292 The validation accuracy is : 0.692200\n",
      "Epoch 43, CIFAR-10 Batch 4:  The loss is:    0.05284 The validation accuracy is : 0.696200\n",
      "Epoch 43, CIFAR-10 Batch 5:  The loss is:    0.04398 The validation accuracy is : 0.680200\n",
      "Epoch 44, CIFAR-10 Batch 1:  The loss is:    0.06813 The validation accuracy is : 0.689800\n",
      "Epoch 44, CIFAR-10 Batch 2:  The loss is:    0.05044 The validation accuracy is : 0.686600\n",
      "Epoch 44, CIFAR-10 Batch 3:  The loss is:    0.04733 The validation accuracy is : 0.693400\n",
      "Epoch 44, CIFAR-10 Batch 4:  The loss is:    0.06319 The validation accuracy is : 0.675400\n",
      "Epoch 44, CIFAR-10 Batch 5:  The loss is:    0.08395 The validation accuracy is : 0.671200\n",
      "Epoch 45, CIFAR-10 Batch 1:  The loss is:    0.07056 The validation accuracy is : 0.683400\n",
      "Epoch 45, CIFAR-10 Batch 2:  The loss is:    0.06873 The validation accuracy is : 0.682800\n",
      "Epoch 45, CIFAR-10 Batch 3:  The loss is:    0.05522 The validation accuracy is : 0.691800\n",
      "Epoch 45, CIFAR-10 Batch 4:  The loss is:    0.05154 The validation accuracy is : 0.689600\n",
      "Epoch 45, CIFAR-10 Batch 5:  The loss is:    0.06437 The validation accuracy is : 0.680600\n",
      "Epoch 46, CIFAR-10 Batch 1:  The loss is:    0.06905 The validation accuracy is : 0.677400\n",
      "Epoch 46, CIFAR-10 Batch 2:  The loss is:    0.05392 The validation accuracy is : 0.682400\n",
      "Epoch 46, CIFAR-10 Batch 3:  The loss is:    0.04620 The validation accuracy is : 0.688800\n",
      "Epoch 46, CIFAR-10 Batch 4:  The loss is:    0.05427 The validation accuracy is : 0.685000\n",
      "Epoch 46, CIFAR-10 Batch 5:  The loss is:    0.06564 The validation accuracy is : 0.683600\n",
      "Epoch 47, CIFAR-10 Batch 1:  The loss is:    0.05327 The validation accuracy is : 0.678600\n",
      "Epoch 47, CIFAR-10 Batch 2:  The loss is:    0.05035 The validation accuracy is : 0.699800\n",
      "Epoch 47, CIFAR-10 Batch 3:  The loss is:    0.04401 The validation accuracy is : 0.686800\n",
      "Epoch 47, CIFAR-10 Batch 4:  The loss is:    0.04782 The validation accuracy is : 0.681600\n",
      "Epoch 47, CIFAR-10 Batch 5:  The loss is:    0.08023 The validation accuracy is : 0.688800\n",
      "Epoch 48, CIFAR-10 Batch 1:  The loss is:    0.05060 The validation accuracy is : 0.679400\n",
      "Epoch 48, CIFAR-10 Batch 2:  The loss is:    0.05476 The validation accuracy is : 0.696600\n",
      "Epoch 48, CIFAR-10 Batch 3:  The loss is:    0.03209 The validation accuracy is : 0.688400\n",
      "Epoch 48, CIFAR-10 Batch 4:  The loss is:    0.03501 The validation accuracy is : 0.691000\n",
      "Epoch 48, CIFAR-10 Batch 5:  The loss is:    0.05549 The validation accuracy is : 0.688400\n",
      "Epoch 49, CIFAR-10 Batch 1:  The loss is:    0.05020 The validation accuracy is : 0.685800\n",
      "Epoch 49, CIFAR-10 Batch 2:  The loss is:    0.04192 The validation accuracy is : 0.691000\n",
      "Epoch 49, CIFAR-10 Batch 3:  The loss is:    0.03722 The validation accuracy is : 0.686800\n",
      "Epoch 49, CIFAR-10 Batch 4:  The loss is:    0.04852 The validation accuracy is : 0.680400\n",
      "Epoch 49, CIFAR-10 Batch 5:  The loss is:    0.04472 The validation accuracy is : 0.691200\n",
      "Epoch 50, CIFAR-10 Batch 1:  The loss is:    0.05505 The validation accuracy is : 0.672200\n",
      "Epoch 50, CIFAR-10 Batch 2:  The loss is:    0.03870 The validation accuracy is : 0.686200\n",
      "Epoch 50, CIFAR-10 Batch 3:  The loss is:    0.06750 The validation accuracy is : 0.678000\n",
      "Epoch 50, CIFAR-10 Batch 4:  The loss is:    0.06374 The validation accuracy is : 0.666600\n",
      "Epoch 50, CIFAR-10 Batch 5:  The loss is:    0.05140 The validation accuracy is : 0.684600\n",
      "Epoch 51, CIFAR-10 Batch 1:  The loss is:    0.05369 The validation accuracy is : 0.664400\n",
      "Epoch 51, CIFAR-10 Batch 2:  The loss is:    0.05352 The validation accuracy is : 0.688800\n",
      "Epoch 51, CIFAR-10 Batch 3:  The loss is:    0.03362 The validation accuracy is : 0.689400\n",
      "Epoch 51, CIFAR-10 Batch 4:  The loss is:    0.04861 The validation accuracy is : 0.684000\n",
      "Epoch 51, CIFAR-10 Batch 5:  The loss is:    0.05438 The validation accuracy is : 0.684400\n",
      "Epoch 52, CIFAR-10 Batch 1:  The loss is:    0.05367 The validation accuracy is : 0.659000\n",
      "Epoch 52, CIFAR-10 Batch 2:  The loss is:    0.04652 The validation accuracy is : 0.690000\n",
      "Epoch 52, CIFAR-10 Batch 3:  The loss is:    0.04158 The validation accuracy is : 0.685000\n",
      "Epoch 52, CIFAR-10 Batch 4:  The loss is:    0.05710 The validation accuracy is : 0.673800\n",
      "Epoch 52, CIFAR-10 Batch 5:  The loss is:    0.05682 The validation accuracy is : 0.688800\n",
      "Epoch 53, CIFAR-10 Batch 1:  The loss is:    0.03867 The validation accuracy is : 0.671600\n",
      "Epoch 53, CIFAR-10 Batch 2:  The loss is:    0.05015 The validation accuracy is : 0.687000\n",
      "Epoch 53, CIFAR-10 Batch 3:  The loss is:    0.04209 The validation accuracy is : 0.674200\n",
      "Epoch 53, CIFAR-10 Batch 4:  The loss is:    0.04512 The validation accuracy is : 0.681400\n",
      "Epoch 53, CIFAR-10 Batch 5:  The loss is:    0.05464 The validation accuracy is : 0.691800\n",
      "Epoch 54, CIFAR-10 Batch 1:  The loss is:    0.04228 The validation accuracy is : 0.674800\n",
      "Epoch 54, CIFAR-10 Batch 2:  The loss is:    0.04889 The validation accuracy is : 0.690200\n",
      "Epoch 54, CIFAR-10 Batch 3:  The loss is:    0.03284 The validation accuracy is : 0.687600\n",
      "Epoch 54, CIFAR-10 Batch 4:  The loss is:    0.05975 The validation accuracy is : 0.681400\n",
      "Epoch 54, CIFAR-10 Batch 5:  The loss is:    0.06151 The validation accuracy is : 0.684000\n",
      "Epoch 55, CIFAR-10 Batch 1:  The loss is:    0.03484 The validation accuracy is : 0.682600\n",
      "Epoch 55, CIFAR-10 Batch 2:  The loss is:    0.03561 The validation accuracy is : 0.690000\n",
      "Epoch 55, CIFAR-10 Batch 3:  The loss is:    0.02936 The validation accuracy is : 0.689400\n",
      "Epoch 55, CIFAR-10 Batch 4:  The loss is:    0.04421 The validation accuracy is : 0.677600\n",
      "Epoch 55, CIFAR-10 Batch 5:  The loss is:    0.04223 The validation accuracy is : 0.682000\n"
     ]
    }
   ],
   "source": [
    "\"\"\"\n",
    "DON'T MODIFY ANYTHING IN THIS CELL\n",
    "\"\"\"\n",
    "save_model_path = './image_classification'\n",
    "\n",
    "print('Training...')\n",
    "with tf.Session() as sess:\n",
    "    # Initializing the variables\n",
    "    sess.run(tf.global_variables_initializer())\n",
    "    \n",
    "    # Training cycle\n",
    "    for epoch in range(epochs):\n",
    "        # Loop over all batches\n",
    "        n_batches = 5\n",
    "        for batch_i in range(1, n_batches + 1):\n",
    "            for batch_features, batch_labels in helper.load_preprocess_training_batch(batch_i, batch_size):\n",
    "                train_neural_network(sess, optimizer, keep_probability, batch_features, batch_labels)\n",
    "            print('Epoch {:>2}, CIFAR-10 Batch {}:  '.format(epoch + 1, batch_i), end='')\n",
    "            print_stats(sess, batch_features, batch_labels, cost, accuracy)\n",
    "            \n",
    "    # Save Model\n",
    "    saver = tf.train.Saver()\n",
    "    save_path = saver.save(sess, save_model_path)"
   ]
  },
  {
   "cell_type": "markdown",
   "metadata": {},
   "source": [
    "# Checkpoint\n",
    "The model has been saved to disk.\n",
    "## Test Model\n",
    "Test your model against the test dataset.  This will be your final accuracy. You should have an accuracy greater than 50%. If you don't, keep tweaking the model architecture and parameters."
   ]
  },
  {
   "cell_type": "code",
   "execution_count": 18,
   "metadata": {
    "collapsed": false
   },
   "outputs": [
    {
     "name": "stdout",
     "output_type": "stream",
     "text": [
      "Testing Accuracy: 0.67236328125\n",
      "\n"
     ]
    },
    {
     "data": {
      "image/png": "[encoded data removed]",
      "text/plain": [
       "<matplotlib.figure.Figure at 0x107f88f60>"
      ]
     },
     "metadata": {
      "image/png": {
       "height": 319,
       "width": 355
      }
     },
     "output_type": "display_data"
    }
   ],
   "source": [
    "\"\"\"\n",
    "DON'T MODIFY ANYTHING IN THIS CELL\n",
    "\"\"\"\n",
    "%matplotlib inline\n",
    "%config InlineBackend.figure_format = 'retina'\n",
    "\n",
    "import tensorflow as tf\n",
    "import pickle\n",
    "import helper\n",
    "import random\n",
    "\n",
    "# Set batch size if not already set\n",
    "try:\n",
    "    if batch_size:\n",
    "        pass\n",
    "except NameError:\n",
    "    batch_size = 64\n",
    "\n",
    "save_model_path = './image_classification'\n",
    "n_samples = 4\n",
    "top_n_predictions = 3\n",
    "\n",
    "def test_model():\n",
    "    \"\"\"\n",
    "    Test the saved model against the test dataset\n",
    "    \"\"\"\n",
    "\n",
    "    test_features, test_labels = pickle.load(open('preprocess_training.p', mode='rb'))\n",
    "    loaded_graph = tf.Graph()\n",
    "\n",
    "    with tf.Session(graph=loaded_graph) as sess:\n",
    "        # Load model\n",
    "        loader = tf.train.import_meta_graph(save_model_path + '.meta')\n",
    "        loader.restore(sess, save_model_path)\n",
    "\n",
    "        # Get Tensors from loaded model\n",
    "        loaded_x = loaded_graph.get_tensor_by_name('x:0')\n",
    "        loaded_y = loaded_graph.get_tensor_by_name('y:0')\n",
    "        loaded_keep_prob = loaded_graph.get_tensor_by_name('keep_prob:0')\n",
    "        loaded_logits = loaded_graph.get_tensor_by_name('logits:0')\n",
    "        loaded_acc = loaded_graph.get_tensor_by_name('accuracy:0')\n",
    "        \n",
    "        # Get accuracy in batches for memory limitations\n",
    "        test_batch_acc_total = 0\n",
    "        test_batch_count = 0\n",
    "        \n",
    "        for train_feature_batch, train_label_batch in helper.batch_features_labels(test_features, test_labels, batch_size):\n",
    "            test_batch_acc_total += sess.run(\n",
    "                loaded_acc,\n",
    "                feed_dict={loaded_x: train_feature_batch, loaded_y: train_label_batch, loaded_keep_prob: 1.0})\n",
    "            test_batch_count += 1\n",
    "\n",
    "        print('Testing Accuracy: {}\\n'.format(test_batch_acc_total/test_batch_count))\n",
    "\n",
    "        # Print Random Samples\n",
    "        random_test_features, random_test_labels = tuple(zip(*random.sample(list(zip(test_features, test_labels)), n_samples)))\n",
    "        random_test_predictions = sess.run(\n",
    "            tf.nn.top_k(tf.nn.softmax(loaded_logits), top_n_predictions),\n",
    "            feed_dict={loaded_x: random_test_features, loaded_y: random_test_labels, loaded_keep_prob: 1.0})\n",
    "        helper.display_image_predictions(random_test_features, random_test_labels, random_test_predictions)\n",
    "\n",
    "\n",
    "test_model()"
   ]
  },
  {
   "cell_type": "markdown",
   "metadata": {},
   "source": [
    "## Why 50-70% Accuracy?\n",
    "You might be wondering why you can't get an accuracy any higher. First things first, 50% isn't bad for a simple CNN.  Pure guessing would get you 10% accuracy. However, you might notice people are getting scores [well above 70%](http://rodrigob.github.io/are_we_there_yet/build/classification_datasets_results.html#43494641522d3130).  That's because we haven't taught you all there is to know about neural networks. We still need to cover a few more techniques.\n",
    "## Submitting This Project\n",
    "When submitting this project, make sure to run all the cells before saving the notebook.  Save the notebook file as \"dlnd_image_classification.ipynb\" and save it as a HTML file under \"File\" -> \"Download as\".  Include the \"helper.py\" and \"problem_unittests.py\" files in your submission."
   ]
  }
 ],
 "metadata": {
  "kernelspec": {
   "display_name": "Python 3",
   "language": "python",
   "name": "python3"
  },
  "language_info": {
   "codemirror_mode": {
    "name": "ipython",
    "version": 3
   },
   "file_extension": ".py",
   "mimetype": "text/x-python",
   "name": "python",
   "nbconvert_exporter": "python",
   "pygments_lexer": "ipython3",
   "version": "3.5.3"
  }
 },
 "nbformat": 4,
 "nbformat_minor": 0
}
